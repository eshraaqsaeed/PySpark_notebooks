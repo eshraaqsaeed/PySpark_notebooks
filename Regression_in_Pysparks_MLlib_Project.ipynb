{
  "cells": [
    {
      "cell_type": "markdown",
      "metadata": {
        "id": "PZG51QUPaK9f"
      },
      "source": [
        "# Regression in PySpark's MLlib Project\n",
        "\n",
        "Now it's time to put what you've learned to into action with a REAL project! \n",
        "\n",
        "You have been hired as a consultant to a cement production company who wants to be able to improve their customer experience around a number of areas like being able to provide recommendations to cusomters on optimal amounts of certian ingredients in the cement making process and perhaps even create an application where users can input their own values and received a predicted cement strength!\n",
        "\n",
        "I have provided a list of question below to help guide you through this project but feel free to deviate and make this project your own! But first, a bit about this dataset.\n",
        "\n",
        "### About this dataset \n",
        "This dataset contains 1030 instances of concrete samples, containing 9 attributes (8 continuous and 1 discreate), and 1 continuous quantitative output variable. There are no missing attribute values.\n",
        "\n",
        "I've also provided the variable name, variable type, the measurement unit and a brief description of each variable in the dataset. The concrete compressive strength is the outcome variable for our analysis. The order of this listing corresponds to the order of numerals along the rows of the database.\n",
        "\n",
        "Name -- Data Type -- Measurement -- Description\n",
        "\n",
        "- Cement -- quantitative -- kg in a m3 mixture -- Input Variable \n",
        "- Blast Furnace Slag -- quantitative -- kg in a m3 mixture -- Input Variable \n",
        "- Fly Ash -- quantitative -- kg in a m3 mixture -- Input Variable \n",
        "- Water -- quantitative -- kg in a m3 mixture -- Input Variable \n",
        "- Superplasticizer -- quantitative -- kg in a m3 mixture -- Input Variable \n",
        "- Coarse Aggregate -- quantitative -- kg in a m3 mixture -- Input Variable \n",
        "- Fine Aggregate -- quantitative -- kg in a m3 mixture -- Input Variable \n",
        "- Age -- quantitative -- Day (1~365) -- Input Variable \n",
        "- Concrete compressive strength -- quantitative -- MPa -- Output Variable\n",
        "\n",
        "**Source:** https://www.kaggle.com/maajdl/yeh-concret-data\n",
        "\n",
        "**Dataset Name:** Concrete_Data.csv"
      ]
    },
    {
      "cell_type": "markdown",
      "metadata": {
        "id": "0yc2MBJnaK9m"
      },
      "source": [
        "## 1. Which features are the strongest predictors of cement strength?\n",
        "\n",
        "Build your own ML model to figure this one out! This would be good information to give to our client so the sales reps can focus their efforts on certian ingredients to provide recommendations on. For example, if our clients had a customer that was struggling with their cement breaking, we could trouble shoot with them by starting with the factors that we know are important. "
      ]
    },
    {
      "cell_type": "markdown",
      "metadata": {
        "id": "gnpxLw8caK9n"
      },
      "source": [
        "## 2. For the following given inputs, what would be the estimated cement strength?\n",
        "\n",
        "- Cement: 540\n",
        "- Blast Furnace Slag: 0\n",
        "- Fly Ash: 0\n",
        "- Water: 162\n",
        "- Superplasticizer: 2.5\n",
        "- Coarse Aggregate: 1040\n",
        "- Fine Aggregate: 676\n",
        "- Age: 28\n",
        "\n",
        "The correct answer is 79.99. Let's how close your prediction is!"
      ]
    },
    {
      "cell_type": "markdown",
      "metadata": {
        "id": "H9NCLojaaK9o"
      },
      "source": [
        "## 3. Now see if you can ask users to input their own value for Age and return a predicted value for the cement stength. \n",
        "\n",
        "We did not cover this is in the lecture so you'll have to put your thinking cap on. Accepting user input in PySpark works just like it does in traditional Python.\n",
        "<br>\n",
        "\n",
        "val = input(\"Enter your value: \") "
      ]
    },
    {
      "cell_type": "markdown",
      "metadata": {
        "id": "G69uHu1DaK9q"
      },
      "source": [
        "## 4. Make recommendations of optimal values for cement ingredients (our features)\n",
        "\n",
        "See if you can find the optimal amount of cement to recommend holding the rest of the values from the previous question constant, assuming that the higher the cement strength value the better. "
      ]
    },
    {
      "cell_type": "code",
      "source": [
        "# import findspark\n",
        "# findspark.init()\n",
        "!pip install pyspark\n",
        "import pyspark # only run after findspark.init()\n",
        "from pyspark.sql import SparkSession\n",
        "# May take awhile locally\n",
        "spark = SparkSession.builder.appName(\"aggregate\").getOrCreate()\n",
        "\n",
        "cores = spark._jsc.sc().getExecutorMemoryStatus().keySet().size()\n",
        "print(\"You are working with\", cores, \"core(s)\")\n",
        "spark"
      ],
      "metadata": {
        "colab": {
          "base_uri": "https://localhost:8080/",
          "height": 497
        },
        "id": "tV1f3xlubb92",
        "outputId": "293a654d-d2ea-42f7-c217-037c94fba116"
      },
      "execution_count": null,
      "outputs": [
        {
          "output_type": "stream",
          "name": "stdout",
          "text": [
            "Looking in indexes: https://pypi.org/simple, https://us-python.pkg.dev/colab-wheels/public/simple/\n",
            "Collecting pyspark\n",
            "  Downloading pyspark-3.3.2.tar.gz (281.4 MB)\n",
            "\u001b[2K     \u001b[90m━━━━━━━━━━━━━━━━━━━━━━━━━━━━━━━━━━━━━━━\u001b[0m \u001b[32m281.4/281.4 MB\u001b[0m \u001b[31m4.0 MB/s\u001b[0m eta \u001b[36m0:00:00\u001b[0m\n",
            "\u001b[?25h  Preparing metadata (setup.py) ... \u001b[?25l\u001b[?25hdone\n",
            "Collecting py4j==0.10.9.5\n",
            "  Downloading py4j-0.10.9.5-py2.py3-none-any.whl (199 kB)\n",
            "\u001b[2K     \u001b[90m━━━━━━━━━━━━━━━━━━━━━━━━━━━━━━━━━━━━━━\u001b[0m \u001b[32m199.7/199.7 KB\u001b[0m \u001b[31m18.0 MB/s\u001b[0m eta \u001b[36m0:00:00\u001b[0m\n",
            "\u001b[?25hBuilding wheels for collected packages: pyspark\n",
            "  Building wheel for pyspark (setup.py) ... \u001b[?25l\u001b[?25hdone\n",
            "  Created wheel for pyspark: filename=pyspark-3.3.2-py2.py3-none-any.whl size=281824025 sha256=da2528cc4ca3a08c1d689e47d5f86d96ac00a0c1342f4931f18cf45da354c948\n",
            "  Stored in directory: /root/.cache/pip/wheels/b1/59/a0/a1a0624b5e865fd389919c1a10f53aec9b12195d6747710baf\n",
            "Successfully built pyspark\n",
            "Installing collected packages: py4j, pyspark\n",
            "Successfully installed py4j-0.10.9.5 pyspark-3.3.2\n",
            "You are working with 1 core(s)\n"
          ]
        },
        {
          "output_type": "execute_result",
          "data": {
            "text/plain": [
              "<pyspark.sql.session.SparkSession at 0x7f80e5f20a00>"
            ],
            "text/html": [
              "\n",
              "            <div>\n",
              "                <p><b>SparkSession - in-memory</b></p>\n",
              "                \n",
              "        <div>\n",
              "            <p><b>SparkContext</b></p>\n",
              "\n",
              "            <p><a href=\"http://dc47de73c6df:4040\">Spark UI</a></p>\n",
              "\n",
              "            <dl>\n",
              "              <dt>Version</dt>\n",
              "                <dd><code>v3.3.2</code></dd>\n",
              "              <dt>Master</dt>\n",
              "                <dd><code>local[*]</code></dd>\n",
              "              <dt>AppName</dt>\n",
              "                <dd><code>aggregate</code></dd>\n",
              "            </dl>\n",
              "        </div>\n",
              "        \n",
              "            </div>\n",
              "        "
            ]
          },
          "metadata": {},
          "execution_count": 2
        }
      ]
    },
    {
      "cell_type": "code",
      "source": [
        "from google.colab import drive\n",
        "drive.mount('/content/drive/', force_remount=True)\n",
        "\n",
        "path = '/content/drive/MyDrive/Data Science Intake43/5. Spark/spark-scripts/section3/Datasets/'"
      ],
      "metadata": {
        "colab": {
          "base_uri": "https://localhost:8080/"
        },
        "id": "61oseOhgbnbC",
        "outputId": "9fda7beb-8d91-471a-ae71-5ffc79e4c21d"
      },
      "execution_count": null,
      "outputs": [
        {
          "output_type": "stream",
          "name": "stdout",
          "text": [
            "Mounted at /content/drive/\n"
          ]
        }
      ]
    },
    {
      "cell_type": "code",
      "source": [
        "# Read in dependencies\n",
        "\n",
        "# For data prep\n",
        "from pyspark.ml.feature import VectorAssembler\n",
        "from pyspark.sql.types import * \n",
        "from pyspark.sql.functions import *\n",
        "from pyspark.ml.feature import StringIndexer\n",
        "\n",
        "# To check for multicolinearity\n",
        "from pyspark.ml.stat import Correlation\n",
        "\n",
        "# For training and evaluation\n",
        "from pyspark.ml.regression import *\n",
        "from pyspark.ml.evaluation import *\n",
        "from pyspark.ml.tuning import CrossValidator, ParamGridBuilder"
      ],
      "metadata": {
        "id": "bwOeXhJN3M5v"
      },
      "execution_count": null,
      "outputs": []
    },
    {
      "cell_type": "code",
      "source": [
        "df = spark.read.csv(path+'Concrete_Data.csv',inferSchema=True,header=True)"
      ],
      "metadata": {
        "id": "13O2Pb2u3q-C"
      },
      "execution_count": null,
      "outputs": []
    },
    {
      "cell_type": "markdown",
      "source": [
        "### **Data Exploration**"
      ],
      "metadata": {
        "id": "vV4El_GN35Nb"
      }
    },
    {
      "cell_type": "code",
      "source": [
        "df.limit(5).toPandas()"
      ],
      "metadata": {
        "colab": {
          "base_uri": "https://localhost:8080/",
          "height": 206
        },
        "id": "fF3R3hor3vFv",
        "outputId": "8a1d8381-1bd0-4278-c033-5556c0915171"
      },
      "execution_count": null,
      "outputs": [
        {
          "output_type": "execute_result",
          "data": {
            "text/plain": [
              "   cement   slag  flyash  water  superplasticizer  coarseaggregate  \\\n",
              "0   540.0    0.0     0.0  162.0               2.5           1040.0   \n",
              "1   540.0    0.0     0.0  162.0               2.5           1055.0   \n",
              "2   332.5  142.5     0.0  228.0               0.0            932.0   \n",
              "3   332.5  142.5     0.0  228.0               0.0            932.0   \n",
              "4   198.6  132.4     0.0  192.0               0.0            978.4   \n",
              "\n",
              "   fineaggregate  age  csMPa  \n",
              "0          676.0   28  79.99  \n",
              "1          676.0   28  61.89  \n",
              "2          594.0  270  40.27  \n",
              "3          594.0  365  41.05  \n",
              "4          825.5  360  44.30  "
            ],
            "text/html": [
              "\n",
              "  <div id=\"df-fbfb2a08-64ec-4db6-b1b4-864e8e7efd7d\">\n",
              "    <div class=\"colab-df-container\">\n",
              "      <div>\n",
              "<style scoped>\n",
              "    .dataframe tbody tr th:only-of-type {\n",
              "        vertical-align: middle;\n",
              "    }\n",
              "\n",
              "    .dataframe tbody tr th {\n",
              "        vertical-align: top;\n",
              "    }\n",
              "\n",
              "    .dataframe thead th {\n",
              "        text-align: right;\n",
              "    }\n",
              "</style>\n",
              "<table border=\"1\" class=\"dataframe\">\n",
              "  <thead>\n",
              "    <tr style=\"text-align: right;\">\n",
              "      <th></th>\n",
              "      <th>cement</th>\n",
              "      <th>slag</th>\n",
              "      <th>flyash</th>\n",
              "      <th>water</th>\n",
              "      <th>superplasticizer</th>\n",
              "      <th>coarseaggregate</th>\n",
              "      <th>fineaggregate</th>\n",
              "      <th>age</th>\n",
              "      <th>csMPa</th>\n",
              "    </tr>\n",
              "  </thead>\n",
              "  <tbody>\n",
              "    <tr>\n",
              "      <th>0</th>\n",
              "      <td>540.0</td>\n",
              "      <td>0.0</td>\n",
              "      <td>0.0</td>\n",
              "      <td>162.0</td>\n",
              "      <td>2.5</td>\n",
              "      <td>1040.0</td>\n",
              "      <td>676.0</td>\n",
              "      <td>28</td>\n",
              "      <td>79.99</td>\n",
              "    </tr>\n",
              "    <tr>\n",
              "      <th>1</th>\n",
              "      <td>540.0</td>\n",
              "      <td>0.0</td>\n",
              "      <td>0.0</td>\n",
              "      <td>162.0</td>\n",
              "      <td>2.5</td>\n",
              "      <td>1055.0</td>\n",
              "      <td>676.0</td>\n",
              "      <td>28</td>\n",
              "      <td>61.89</td>\n",
              "    </tr>\n",
              "    <tr>\n",
              "      <th>2</th>\n",
              "      <td>332.5</td>\n",
              "      <td>142.5</td>\n",
              "      <td>0.0</td>\n",
              "      <td>228.0</td>\n",
              "      <td>0.0</td>\n",
              "      <td>932.0</td>\n",
              "      <td>594.0</td>\n",
              "      <td>270</td>\n",
              "      <td>40.27</td>\n",
              "    </tr>\n",
              "    <tr>\n",
              "      <th>3</th>\n",
              "      <td>332.5</td>\n",
              "      <td>142.5</td>\n",
              "      <td>0.0</td>\n",
              "      <td>228.0</td>\n",
              "      <td>0.0</td>\n",
              "      <td>932.0</td>\n",
              "      <td>594.0</td>\n",
              "      <td>365</td>\n",
              "      <td>41.05</td>\n",
              "    </tr>\n",
              "    <tr>\n",
              "      <th>4</th>\n",
              "      <td>198.6</td>\n",
              "      <td>132.4</td>\n",
              "      <td>0.0</td>\n",
              "      <td>192.0</td>\n",
              "      <td>0.0</td>\n",
              "      <td>978.4</td>\n",
              "      <td>825.5</td>\n",
              "      <td>360</td>\n",
              "      <td>44.30</td>\n",
              "    </tr>\n",
              "  </tbody>\n",
              "</table>\n",
              "</div>\n",
              "      <button class=\"colab-df-convert\" onclick=\"convertToInteractive('df-fbfb2a08-64ec-4db6-b1b4-864e8e7efd7d')\"\n",
              "              title=\"Convert this dataframe to an interactive table.\"\n",
              "              style=\"display:none;\">\n",
              "        \n",
              "  <svg xmlns=\"http://www.w3.org/2000/svg\" height=\"24px\"viewBox=\"0 0 24 24\"\n",
              "       width=\"24px\">\n",
              "    <path d=\"M0 0h24v24H0V0z\" fill=\"none\"/>\n",
              "    <path d=\"M18.56 5.44l.94 2.06.94-2.06 2.06-.94-2.06-.94-.94-2.06-.94 2.06-2.06.94zm-11 1L8.5 8.5l.94-2.06 2.06-.94-2.06-.94L8.5 2.5l-.94 2.06-2.06.94zm10 10l.94 2.06.94-2.06 2.06-.94-2.06-.94-.94-2.06-.94 2.06-2.06.94z\"/><path d=\"M17.41 7.96l-1.37-1.37c-.4-.4-.92-.59-1.43-.59-.52 0-1.04.2-1.43.59L10.3 9.45l-7.72 7.72c-.78.78-.78 2.05 0 2.83L4 21.41c.39.39.9.59 1.41.59.51 0 1.02-.2 1.41-.59l7.78-7.78 2.81-2.81c.8-.78.8-2.07 0-2.86zM5.41 20L4 18.59l7.72-7.72 1.47 1.35L5.41 20z\"/>\n",
              "  </svg>\n",
              "      </button>\n",
              "      \n",
              "  <style>\n",
              "    .colab-df-container {\n",
              "      display:flex;\n",
              "      flex-wrap:wrap;\n",
              "      gap: 12px;\n",
              "    }\n",
              "\n",
              "    .colab-df-convert {\n",
              "      background-color: #E8F0FE;\n",
              "      border: none;\n",
              "      border-radius: 50%;\n",
              "      cursor: pointer;\n",
              "      display: none;\n",
              "      fill: #1967D2;\n",
              "      height: 32px;\n",
              "      padding: 0 0 0 0;\n",
              "      width: 32px;\n",
              "    }\n",
              "\n",
              "    .colab-df-convert:hover {\n",
              "      background-color: #E2EBFA;\n",
              "      box-shadow: 0px 1px 2px rgba(60, 64, 67, 0.3), 0px 1px 3px 1px rgba(60, 64, 67, 0.15);\n",
              "      fill: #174EA6;\n",
              "    }\n",
              "\n",
              "    [theme=dark] .colab-df-convert {\n",
              "      background-color: #3B4455;\n",
              "      fill: #D2E3FC;\n",
              "    }\n",
              "\n",
              "    [theme=dark] .colab-df-convert:hover {\n",
              "      background-color: #434B5C;\n",
              "      box-shadow: 0px 1px 3px 1px rgba(0, 0, 0, 0.15);\n",
              "      filter: drop-shadow(0px 1px 2px rgba(0, 0, 0, 0.3));\n",
              "      fill: #FFFFFF;\n",
              "    }\n",
              "  </style>\n",
              "\n",
              "      <script>\n",
              "        const buttonEl =\n",
              "          document.querySelector('#df-fbfb2a08-64ec-4db6-b1b4-864e8e7efd7d button.colab-df-convert');\n",
              "        buttonEl.style.display =\n",
              "          google.colab.kernel.accessAllowed ? 'block' : 'none';\n",
              "\n",
              "        async function convertToInteractive(key) {\n",
              "          const element = document.querySelector('#df-fbfb2a08-64ec-4db6-b1b4-864e8e7efd7d');\n",
              "          const dataTable =\n",
              "            await google.colab.kernel.invokeFunction('convertToInteractive',\n",
              "                                                     [key], {});\n",
              "          if (!dataTable) return;\n",
              "\n",
              "          const docLinkHtml = 'Like what you see? Visit the ' +\n",
              "            '<a target=\"_blank\" href=https://colab.research.google.com/notebooks/data_table.ipynb>data table notebook</a>'\n",
              "            + ' to learn more about interactive tables.';\n",
              "          element.innerHTML = '';\n",
              "          dataTable['output_type'] = 'display_data';\n",
              "          await google.colab.output.renderOutput(dataTable, element);\n",
              "          const docLink = document.createElement('div');\n",
              "          docLink.innerHTML = docLinkHtml;\n",
              "          element.appendChild(docLink);\n",
              "        }\n",
              "      </script>\n",
              "    </div>\n",
              "  </div>\n",
              "  "
            ]
          },
          "metadata": {},
          "execution_count": 6
        }
      ]
    },
    {
      "cell_type": "code",
      "source": [
        "df.printSchema()"
      ],
      "metadata": {
        "colab": {
          "base_uri": "https://localhost:8080/"
        },
        "id": "tolgKdKb4C_W",
        "outputId": "2f970e92-bf07-4900-c07a-eb33e9557e97"
      },
      "execution_count": null,
      "outputs": [
        {
          "output_type": "stream",
          "name": "stdout",
          "text": [
            "root\n",
            " |-- cement: double (nullable = true)\n",
            " |-- slag: double (nullable = true)\n",
            " |-- flyash: double (nullable = true)\n",
            " |-- water: double (nullable = true)\n",
            " |-- superplasticizer: double (nullable = true)\n",
            " |-- coarseaggregate: double (nullable = true)\n",
            " |-- fineaggregate: double (nullable = true)\n",
            " |-- age: integer (nullable = true)\n",
            " |-- csMPa: double (nullable = true)\n",
            "\n"
          ]
        }
      ]
    },
    {
      "cell_type": "code",
      "source": [
        "print(df.count())\n",
        "print(len(df.columns))"
      ],
      "metadata": {
        "colab": {
          "base_uri": "https://localhost:8080/"
        },
        "id": "V4h31fDJ4sK3",
        "outputId": "dd55eeeb-945a-4615-cc46-5dc4d6232ad6"
      },
      "execution_count": null,
      "outputs": [
        {
          "output_type": "stream",
          "name": "stdout",
          "text": [
            "1030\n",
            "9\n"
          ]
        }
      ]
    },
    {
      "cell_type": "code",
      "source": [
        "# drop missing values if any\n",
        "from pyspark.sql.functions import col,isnan,when,count\n",
        "tmp = df.select([count(when(col(c).contains('None') | \\\n",
        "                            col(c).contains('NULL') | \\\n",
        "                            (col(c) == '' ) | \\\n",
        "                            col(c).isNull() | \\\n",
        "                            isnan(c), c \n",
        "                           )).alias(c)\n",
        "                    for c in df.columns])"
      ],
      "metadata": {
        "id": "iE4vxG8P4wsa"
      },
      "execution_count": null,
      "outputs": []
    },
    {
      "cell_type": "code",
      "source": [
        "tmp.show()"
      ],
      "metadata": {
        "colab": {
          "base_uri": "https://localhost:8080/"
        },
        "id": "hZz0Dddd5I4p",
        "outputId": "a1b501b6-0709-426c-8765-5cfabb5e7f14"
      },
      "execution_count": null,
      "outputs": [
        {
          "output_type": "stream",
          "name": "stdout",
          "text": [
            "+------+----+------+-----+----------------+---------------+-------------+---+-----+\n",
            "|cement|slag|flyash|water|superplasticizer|coarseaggregate|fineaggregate|age|csMPa|\n",
            "+------+----+------+-----+----------------+---------------+-------------+---+-----+\n",
            "|     0|   0|     0|    0|               0|              0|            0|  0|    0|\n",
            "+------+----+------+-----+----------------+---------------+-------------+---+-----+\n",
            "\n"
          ]
        }
      ]
    },
    {
      "cell_type": "markdown",
      "source": [
        "No missing values exists"
      ],
      "metadata": {
        "id": "S7rsakPD5RtU"
      }
    },
    {
      "cell_type": "markdown",
      "source": [
        "Since age value must be in range of 1 to 365, let's check if there's any outliers"
      ],
      "metadata": {
        "id": "Y0rTW6Ol6YQu"
      }
    },
    {
      "cell_type": "code",
      "source": [
        "print('Max:', df.agg({'Age': 'max'}).show())"
      ],
      "metadata": {
        "colab": {
          "base_uri": "https://localhost:8080/"
        },
        "id": "4oRWuY1H5Ojv",
        "outputId": "70c0b530-5b8e-4e66-f528-cd00bb73fda9"
      },
      "execution_count": null,
      "outputs": [
        {
          "output_type": "stream",
          "name": "stdout",
          "text": [
            "+--------+\n",
            "|max(Age)|\n",
            "+--------+\n",
            "|     365|\n",
            "+--------+\n",
            "\n",
            "Max: None\n"
          ]
        }
      ]
    },
    {
      "cell_type": "code",
      "source": [
        "print('Min:', df.agg({'Age': 'min'}).show())"
      ],
      "metadata": {
        "colab": {
          "base_uri": "https://localhost:8080/"
        },
        "id": "DBq2LPrd666D",
        "outputId": "451d3b40-3852-4fbd-d86a-ce16dd890593"
      },
      "execution_count": null,
      "outputs": [
        {
          "output_type": "stream",
          "name": "stdout",
          "text": [
            "+--------+\n",
            "|min(Age)|\n",
            "+--------+\n",
            "|       1|\n",
            "+--------+\n",
            "\n",
            "Min: None\n"
          ]
        }
      ]
    },
    {
      "cell_type": "markdown",
      "source": [
        "Age is within range"
      ],
      "metadata": {
        "id": "IRloDuO36_wQ"
      }
    },
    {
      "cell_type": "markdown",
      "source": [
        "### **Data Formating**"
      ],
      "metadata": {
        "id": "soX8k4oD7HDc"
      }
    },
    {
      "cell_type": "code",
      "source": [
        "input_columns = [\"cement\",\"slag\",\"flyash\",\"water\",\"superplasticizer\",\"coarseaggregate\",\"fineaggregate\",\"age\"]\n",
        "dependent_var = 'csMPa'\n",
        "\n",
        "renamed = df.withColumnRenamed(dependent_var,'label')"
      ],
      "metadata": {
        "id": "5olMToEB6-Qu"
      },
      "execution_count": null,
      "outputs": []
    },
    {
      "cell_type": "code",
      "source": [
        "# Create empty dictionary d\n",
        "d = {}\n",
        "# Create a dictionary of percentiles you want to set\n",
        "# We do top and bottom 1 % which is pretty common\n",
        "for col in input_columns: \n",
        "    d[col] = renamed.approxQuantile(col,[0.01,0.99],0.25) #if you want to make it go faster increase the last number\n",
        "#Now fill in the values\n",
        "for col in input_columns:\n",
        "    skew = renamed.agg(skewness(renamed[col])).collect() #check for skewness\n",
        "    skew = skew[0][0]\n",
        "    # This function will floor, cap and then log+1 (just in case there are 0 values)\n",
        "    if skew > 1:\n",
        "        renamed = renamed.withColumn(col, \\\n",
        "        log(when(df[col] < d[col][0],d[col][0])\\\n",
        "        .when(renamed[col] > d[col][1], d[col][1])\\\n",
        "        .otherwise(renamed[col] ) +1).alias(col))\n",
        "        print(col+\" has been treated for positive (right) skewness. (skew =)\",skew,\")\")\n",
        "    elif skew < -1:\n",
        "        renamed = renamed.withColumn(col, \\\n",
        "        exp(when(df[col] < d[col][0],d[col][0])\\\n",
        "        .when(renamed[col] > d[col][1], d[col][1])\\\n",
        "        .otherwise(renamed[col] )).alias(col))\n",
        "        print(col+\" has been treated for negative (left) skewness. (skew =\",skew,\")\")"
      ],
      "metadata": {
        "colab": {
          "base_uri": "https://localhost:8080/"
        },
        "id": "WQnN6fot7bWd",
        "outputId": "dd62c788-4d4d-45b3-e6f0-66b95994c489"
      },
      "execution_count": null,
      "outputs": [
        {
          "output_type": "stream",
          "name": "stdout",
          "text": [
            "age has been treated for positive (right) skewness. (skew =) 3.2644145354168086 )\n"
          ]
        }
      ]
    },
    {
      "cell_type": "code",
      "source": [
        "features_list = input_columns\n",
        "assembler = VectorAssembler(inputCols=features_list,outputCol='features')\n",
        "final_data = assembler.transform(renamed).select('features','label')\n",
        "final_data.show(5)"
      ],
      "metadata": {
        "colab": {
          "base_uri": "https://localhost:8080/"
        },
        "id": "-zVRdX5HQf8c",
        "outputId": "bca30644-89f9-4df1-f667-4921ac71c8e5"
      },
      "execution_count": null,
      "outputs": [
        {
          "output_type": "stream",
          "name": "stdout",
          "text": [
            "+--------------------+-----+\n",
            "|            features|label|\n",
            "+--------------------+-----+\n",
            "|[540.0,0.0,0.0,16...|79.99|\n",
            "|[540.0,0.0,0.0,16...|61.89|\n",
            "|[332.5,142.5,0.0,...|40.27|\n",
            "|[332.5,142.5,0.0,...|41.05|\n",
            "|[198.6,132.4,0.0,...| 44.3|\n",
            "+--------------------+-----+\n",
            "only showing top 5 rows\n",
            "\n"
          ]
        }
      ]
    },
    {
      "cell_type": "markdown",
      "source": [
        "### Check features correlation"
      ],
      "metadata": {
        "id": "Sobj2SytQwg1"
      }
    },
    {
      "cell_type": "code",
      "source": [
        "from pyspark.ml.stat import Correlation\n",
        "pearsonCorr = Correlation.corr(final_data, 'features', 'pearson').collect()[0][0]\n",
        "array = pearsonCorr.toArray()"
      ],
      "metadata": {
        "id": "FBXtzUzqQsaN"
      },
      "execution_count": null,
      "outputs": []
    },
    {
      "cell_type": "code",
      "source": [
        "import numpy\n",
        "i = 1\n",
        "for item in array:\n",
        "    print(\"start item\", i)\n",
        "    for innerItem in item:\n",
        "        print(numpy.round(innerItem,3) , end =\" \")\n",
        "    print(\" \")\n",
        "    print(\"end of item\", i)\n",
        "    print(\" \")\n",
        "    i = i + 1"
      ],
      "metadata": {
        "colab": {
          "base_uri": "https://localhost:8080/"
        },
        "id": "DYOGFOEuQ1xu",
        "outputId": "65f26dc6-9e0b-46f9-84ed-8bbc1e96881e"
      },
      "execution_count": null,
      "outputs": [
        {
          "output_type": "stream",
          "name": "stdout",
          "text": [
            "start item 1\n",
            "1.0 -0.275 -0.397 -0.082 0.092 -0.109 -0.223 0.003  \n",
            "end of item 1\n",
            " \n",
            "start item 2\n",
            "-0.275 1.0 -0.324 0.107 0.043 -0.284 -0.282 -0.021  \n",
            "end of item 2\n",
            " \n",
            "start item 3\n",
            "-0.397 -0.324 1.0 -0.257 0.378 -0.01 0.079 -0.02  \n",
            "end of item 3\n",
            " \n",
            "start item 4\n",
            "-0.082 0.107 -0.257 1.0 -0.658 -0.182 -0.451 0.17  \n",
            "end of item 4\n",
            " \n",
            "start item 5\n",
            "0.092 0.043 0.378 -0.658 1.0 -0.266 0.223 -0.048  \n",
            "end of item 5\n",
            " \n",
            "start item 6\n",
            "-0.109 -0.284 -0.01 -0.182 -0.266 1.0 -0.178 -0.038  \n",
            "end of item 6\n",
            " \n",
            "start item 7\n",
            "-0.223 -0.282 0.079 -0.451 0.223 -0.178 1.0 -0.115  \n",
            "end of item 7\n",
            " \n",
            "start item 8\n",
            "0.003 -0.021 -0.02 0.17 -0.048 -0.038 -0.115 1.0  \n",
            "end of item 8\n",
            " \n"
          ]
        }
      ]
    },
    {
      "cell_type": "markdown",
      "source": [
        "### Which are correlated?"
      ],
      "metadata": {
        "id": "tFLSEqLRUiUL"
      }
    },
    {
      "cell_type": "markdown",
      "source": [
        "Split Data"
      ],
      "metadata": {
        "id": "fmeZynlUUNYU"
      }
    },
    {
      "cell_type": "code",
      "source": [
        "train,test = final_data.randomSplit([0.75,0.25])"
      ],
      "metadata": {
        "id": "2yWShzygQ-fQ"
      },
      "execution_count": null,
      "outputs": []
    },
    {
      "cell_type": "markdown",
      "source": [
        "### **Random Forest**"
      ],
      "metadata": {
        "id": "bmcJ5HcQU6Ak"
      }
    },
    {
      "cell_type": "code",
      "source": [
        "regressor = LinearRegression()\n",
        "fitModel = regressor.fit(train)"
      ],
      "metadata": {
        "id": "0xcye6e4US6Q"
      },
      "execution_count": null,
      "outputs": []
    },
    {
      "cell_type": "code",
      "source": [
        "evaluator = RegressionEvaluator(metricName=\"rmse\")"
      ],
      "metadata": {
        "id": "4snQpPolU_US"
      },
      "execution_count": null,
      "outputs": []
    },
    {
      "cell_type": "code",
      "source": [
        "#predict\n",
        "predictions = fitModel.transform(test)\n",
        "\n",
        "rmse = evaluator.evaluate(predictions)\n",
        "print(\"Root Mean Squared Error (RMSE) on test data = %g\" % rmse)"
      ],
      "metadata": {
        "colab": {
          "base_uri": "https://localhost:8080/"
        },
        "id": "PwpADXM2VB7x",
        "outputId": "21330016-0dfa-4acd-dec0-c8f89108c036"
      },
      "execution_count": null,
      "outputs": [
        {
          "output_type": "stream",
          "name": "stdout",
          "text": [
            "Root Mean Squared Error (RMSE) on test data = 7.29985\n"
          ]
        }
      ]
    },
    {
      "cell_type": "markdown",
      "source": [
        "### **Linear Regression with CV**"
      ],
      "metadata": {
        "id": "n4CDjvxoVKXN"
      }
    },
    {
      "cell_type": "code",
      "source": [
        "regressor = LinearRegression()\n",
        "\n",
        "paramGrid = (ParamGridBuilder() \\\n",
        "             .addGrid(regressor.maxIter, [10, 15]) \\\n",
        "             .addGrid(regressor.regParam, [0.1, 0.01]) \\\n",
        "             .build())\n",
        "\n",
        "evaluator = RegressionEvaluator(metricName=\"rmse\")\n",
        "\n",
        "#Cross Validator requires all of the following parameters:\n",
        "crossval = CrossValidator(estimator=regressor,\n",
        "                          estimatorParamMaps=paramGrid,\n",
        "                          evaluator=evaluator,\n",
        "                          numFolds=3) \n",
        "\n",
        "print('\\033[1m' + \"Linear Regression Model Summary WITH cross validation:\"+ '\\033[0m')\n",
        "print(\" \")\n",
        "# Run cross validations\n",
        "fitModel = crossval.fit(train)\n",
        "\n",
        "# Extract Best model\n",
        "LR_BestModel = fitModel.bestModel\n",
        "\n",
        "# Get Model Summary Statistics\n",
        "# ModelSummary = fitModel.bestModel.summary\n",
        "ModelSummary = LR_BestModel.summary\n",
        "print(\"Coefficient Standard Errors: \")\n",
        "coeff_ste = ModelSummary.coefficientStandardErrors\n",
        "result = spark.createDataFrame(zip(input_columns,coeff_ste), schema=['feature','coeff std error'])\n",
        "print(result.orderBy(result[\"coeff std error\"].desc()).show(truncate=False))\n",
        "print(\" \")\n",
        "print(\"P Values: \") \n",
        "# Then zip with input_columns list and create a df\n",
        "pvalues = ModelSummary.pValues\n",
        "result = spark.createDataFrame(zip(input_columns,pvalues), schema=['feature','P-Value'])\n",
        "print(result.orderBy(result[\"P-Value\"].desc()).show(truncate=False))\n",
        "print(\" \")\n",
        "\n",
        "# Use test set here so we can measure the accuracy of our model on new data\n",
        "ModelPredictions = fitModel.transform(test)\n",
        "\n",
        "# cvModel uses the best model found from the Cross Validation\n",
        "# Evaluate best model\n",
        "test_results = evaluator.evaluate(ModelPredictions)\n",
        "print('RMSE:', test_results)"
      ],
      "metadata": {
        "colab": {
          "base_uri": "https://localhost:8080/"
        },
        "id": "6r4NjJi4VGNA",
        "outputId": "e774c0b0-b53d-48fa-ad3e-f01ba1001859"
      },
      "execution_count": null,
      "outputs": [
        {
          "output_type": "stream",
          "name": "stdout",
          "text": [
            "\u001b[1mLinear Regression Model Summary WITH cross validation:\u001b[0m\n",
            " \n",
            "Coefficient Standard Errors: \n",
            "+----------------+--------------------+\n",
            "|feature         |coeff std error     |\n",
            "+----------------+--------------------+\n",
            "|age             |0.250130518792412   |\n",
            "|superplasticizer|0.07507569856624512 |\n",
            "|water           |0.03225891573635566 |\n",
            "|flyash          |0.010090798682483429|\n",
            "|fineaggregate   |0.008696609907279582|\n",
            "|slag            |0.008209802284997287|\n",
            "|coarseaggregate |0.007654722950445365|\n",
            "|cement          |0.006915136798573747|\n",
            "+----------------+--------------------+\n",
            "\n",
            "None\n",
            " \n",
            "P Values: \n",
            "+----------------+---------------------+\n",
            "|feature         |P-Value              |\n",
            "+----------------+---------------------+\n",
            "|superplasticizer|0.0317322493167882   |\n",
            "|water           |4.0166169962385645E-4|\n",
            "|coarseaggregate |1.0787963701641701E-4|\n",
            "|fineaggregate   |2.8620182422223195E-5|\n",
            "|age             |0.0                  |\n",
            "|cement          |0.0                  |\n",
            "|flyash          |0.0                  |\n",
            "|slag            |0.0                  |\n",
            "+----------------+---------------------+\n",
            "\n",
            "None\n",
            " \n",
            "RMSE: 7.071709492332691\n"
          ]
        }
      ]
    },
    {
      "cell_type": "markdown",
      "source": [
        "### **Gradient Boost Regressor**"
      ],
      "metadata": {
        "id": "53ZUm79AWZkM"
      }
    },
    {
      "cell_type": "code",
      "source": [
        "regressor = GBTRegressor()\n",
        "\n",
        "# Add parameters of your choice here:\n",
        "paramGrid = (ParamGridBuilder() \\\n",
        "                           .addGrid(regressor.maxDepth, [2, 5, 10])\n",
        "                           .addGrid(regressor.maxBins, [5, 10, 20])\n",
        "                           .build())\n",
        "\n",
        "#Cross Validator requires all of the following parameters:\n",
        "crossval = CrossValidator(estimator=regressor,\n",
        "                          estimatorParamMaps=paramGrid,\n",
        "                          evaluator=evaluator,\n",
        "                          numFolds=3)\n",
        "# Fit Model: Run cross-validation, and choose the best set of parameters.\n",
        "fitModel = crossval.fit(train)\n",
        "\n",
        "# Get Best Model\n",
        "GBT_BestModel = fitModel.bestModel\n",
        "\n",
        "# FEATURE IMPORTANCES\n",
        "# Estimate of the importance of each feature.\n",
        "# Each feature’s importance is the average of its importance across all trees \n",
        "# in the ensemble The importance vector is normalized to sum to 1. \n",
        "print(\" \")\n",
        "print('\\033[1m' + \" Feature Importances\"+ '\\033[0m')\n",
        "print(\"(Scores add up to 1)\")\n",
        "print(\"Lowest score is the least important\")\n",
        "print(\" \")\n",
        "GBT_featureImportances = GBT_BestModel.featureImportances.toArray()\n",
        "# Convert from numpy array to list\n",
        "imp_scores = []\n",
        "for x in GBT_featureImportances:\n",
        "    imp_scores.append(float(x))\n",
        "# Then zip with input_columns list and create a df\n",
        "result = spark.createDataFrame(zip(input_columns,imp_scores), schema=['feature','score'])\n",
        "print(result.orderBy(result[\"score\"].desc()).show(truncate=False))\n",
        "\n",
        "# Make predictions.\n",
        "# PySpark will automatically use the best model when you call fitmodel\n",
        "predictions = fitModel.transform(test)\n",
        "\n",
        "# And then apply it your predictions dataframe\n",
        "rmse = evaluator.evaluate(predictions)\n",
        "print(rmse)"
      ],
      "metadata": {
        "colab": {
          "base_uri": "https://localhost:8080/"
        },
        "id": "4EeTrgi0VlSB",
        "outputId": "7488c361-3625-4e10-bcea-02ceb0f4da6c"
      },
      "execution_count": null,
      "outputs": [
        {
          "output_type": "stream",
          "name": "stdout",
          "text": [
            " \n",
            "\u001b[1m Feature Importances\u001b[0m\n",
            "(Scores add up to 1)\n",
            "Lowest score is the least important\n",
            " \n",
            "+----------------+--------------------+\n",
            "|feature         |score               |\n",
            "+----------------+--------------------+\n",
            "|age             |0.23653583044014115 |\n",
            "|cement          |0.19803397154527458 |\n",
            "|water           |0.1360648492305606  |\n",
            "|fineaggregate   |0.11507490360700398 |\n",
            "|slag            |0.10681596967246565 |\n",
            "|coarseaggregate |0.07539248688631538 |\n",
            "|superplasticizer|0.07296171371768165 |\n",
            "|flyash          |0.059120274900556914|\n",
            "+----------------+--------------------+\n",
            "\n",
            "None\n",
            "5.781907300522872\n"
          ]
        }
      ]
    },
    {
      "cell_type": "markdown",
      "source": [
        "### **Random Forest Regressor**"
      ],
      "metadata": {
        "id": "c2OFs1zPXnc3"
      }
    },
    {
      "cell_type": "code",
      "source": [
        "regressor = RandomForestRegressor()\n",
        "\n",
        "# Add parameters of your choice here:\n",
        "paramGrid = (ParamGridBuilder() \\\n",
        "                           .addGrid(regressor.maxDepth, [2, 5, 10])\n",
        "                           .addGrid(regressor.maxBins, [5, 10, 20])\n",
        "               .addGrid(regressor.numTrees, [5, 20])\n",
        "             .build())\n",
        "\n",
        "#Cross Validator requires all of the following parameters:\n",
        "crossval = CrossValidator(estimator=regressor,\n",
        "                          estimatorParamMaps=paramGrid,\n",
        "                          evaluator=evaluator,\n",
        "                          numFolds=3) \n",
        "# Fit Model: Run cross-validation, and choose the best set of parameters.\n",
        "fitModel = crossval.fit(train)\n",
        "\n",
        "# Get Best Model\n",
        "RF_BestModel = fitModel.bestModel\n",
        "\n",
        "# FEATURE IMPORTANCES\n",
        "# Estimate of the importance of each feature.\n",
        "# Each feature’s importance is the average of its importance across all trees \n",
        "# in the ensemble The importance vector is normalized to sum to 1. \n",
        "print(\" \")\n",
        "print('\\033[1m' + \" Feature Importances\"+ '\\033[0m')\n",
        "print(\"(Scores add up to 1)\")\n",
        "print(\"Lowest score is the least important\")\n",
        "print(\" \")\n",
        "RF_featureImportances = RF_BestModel.featureImportances.toArray()\n",
        "# Convert from numpy array to list\n",
        "imp_scores = []\n",
        "for x in RF_featureImportances:\n",
        "    imp_scores.append(float(x))\n",
        "# Then zip with input_columns list and create a df\n",
        "result = spark.createDataFrame(zip(input_columns,imp_scores), schema=['feature','score'])\n",
        "print(result.orderBy(result[\"score\"].desc()).show(truncate=False))\n",
        "\n",
        "# Make predictions.\n",
        "# PySpark will automatically use the best model when you call fitmodel\n",
        "predictions = fitModel.transform(test)\n",
        "\n",
        "# And then apply it your predictions dataframe\n",
        "rmse = evaluator.evaluate(predictions)\n",
        "print(\"RMSE: \", rmse)"
      ],
      "metadata": {
        "colab": {
          "base_uri": "https://localhost:8080/"
        },
        "id": "hnbRi0k_Whk2",
        "outputId": "6c19fd73-1cc9-49bb-affe-0abe212edb5d"
      },
      "execution_count": null,
      "outputs": [
        {
          "output_type": "stream",
          "name": "stdout",
          "text": [
            " \n",
            "\u001b[1m Feature Importances\u001b[0m\n",
            "(Scores add up to 1)\n",
            "Lowest score is the least important\n",
            " \n",
            "+----------------+--------------------+\n",
            "|feature         |score               |\n",
            "+----------------+--------------------+\n",
            "|age             |0.33340438014723595 |\n",
            "|cement          |0.24701935757226173 |\n",
            "|water           |0.12246851126720892 |\n",
            "|superplasticizer|0.07166172826818085 |\n",
            "|fineaggregate   |0.06817043889904896 |\n",
            "|slag            |0.06031099223504194 |\n",
            "|coarseaggregate |0.058228579553014456|\n",
            "|flyash          |0.03873601205800723 |\n",
            "+----------------+--------------------+\n",
            "\n",
            "None\n",
            "RMSE:  5.717237433613214\n"
          ]
        }
      ]
    },
    {
      "cell_type": "markdown",
      "source": [
        "Accordingly, Random Forest Regressor had the least RMSE, thus, it will be utilized throughout the pipeline"
      ],
      "metadata": {
        "id": "Hhp4KvB-YZx0"
      }
    },
    {
      "cell_type": "markdown",
      "source": [
        "## Given the following values for features, what is the predicted csMPA"
      ],
      "metadata": {
        "id": "XboMOUHwaze7"
      }
    },
    {
      "cell_type": "code",
      "source": [
        "input = [(540.0, 0.0, 0.0, 162.0, 2.5, 1040.0, 676.0, 28, 79.99)]\n",
        "\n",
        "schema = StructType([ \\\n",
        "          StructField(\"cement\",FloatType(),True), \\\n",
        "          StructField(\"slag\",FloatType(),True), \\\n",
        "          StructField(\"flyash\",FloatType(),True), \\\n",
        "          StructField(\"water\", FloatType(), True), \\\n",
        "          StructField(\"superplasticizer\", FloatType(), True), \\\n",
        "          StructField(\"coarseaggregate\", FloatType(), True), \\\n",
        "          StructField(\"fineaggregate\", FloatType(), True), \\\n",
        "          StructField(\"age\", IntegerType(), True), \\\n",
        "          StructField(\"label\", FloatType(), True)\\\n",
        "        ])\n",
        "\n",
        "pred_df = spark.createDataFrame(data=input, schema=schema)\n",
        "pred_df.show(3)\n"
      ],
      "metadata": {
        "id": "0C-8AvnbXtNh",
        "colab": {
          "base_uri": "https://localhost:8080/"
        },
        "outputId": "1b1c214b-3a98-4429-96ba-1371671e4f36"
      },
      "execution_count": null,
      "outputs": [
        {
          "output_type": "stream",
          "name": "stdout",
          "text": [
            "+------+----+------+-----+----------------+---------------+-------------+---+-----+\n",
            "|cement|slag|flyash|water|superplasticizer|coarseaggregate|fineaggregate|age|label|\n",
            "+------+----+------+-----+----------------+---------------+-------------+---+-----+\n",
            "| 540.0| 0.0|   0.0|162.0|             2.5|         1040.0|        676.0| 28|79.99|\n",
            "+------+----+------+-----+----------------+---------------+-------------+---+-----+\n",
            "\n"
          ]
        }
      ]
    },
    {
      "cell_type": "code",
      "source": [
        "features_list = input_columns\n",
        "assembler = VectorAssembler(inputCols=features_list,outputCol='features')\n",
        "final_data = assembler.transform(pred_df).select('features','label')\n",
        "final_data.show(5)"
      ],
      "metadata": {
        "colab": {
          "base_uri": "https://localhost:8080/"
        },
        "id": "f_x6wMLrrQHE",
        "outputId": "2c87a5df-c26f-433b-c95d-448059b14709"
      },
      "execution_count": null,
      "outputs": [
        {
          "output_type": "stream",
          "name": "stdout",
          "text": [
            "+--------------------+-----+\n",
            "|            features|label|\n",
            "+--------------------+-----+\n",
            "|[540.0,0.0,0.0,16...|79.99|\n",
            "+--------------------+-----+\n",
            "\n"
          ]
        }
      ]
    },
    {
      "cell_type": "code",
      "source": [
        "predicted_val = fitModel.transform(final_data)"
      ],
      "metadata": {
        "id": "dwdzgI4Qb09c"
      },
      "execution_count": null,
      "outputs": []
    },
    {
      "cell_type": "code",
      "source": [
        "predicted_val.show()"
      ],
      "metadata": {
        "colab": {
          "base_uri": "https://localhost:8080/"
        },
        "id": "9U7MIe33uwuP",
        "outputId": "0f570f5f-b45e-4c11-e22c-16c1711d4475"
      },
      "execution_count": null,
      "outputs": [
        {
          "output_type": "stream",
          "name": "stdout",
          "text": [
            "+--------------------+-----+-----------------+\n",
            "|            features|label|       prediction|\n",
            "+--------------------+-----+-----------------+\n",
            "|[540.0,0.0,0.0,16...|79.99|287.2002070879132|\n",
            "+--------------------+-----+-----------------+\n",
            "\n"
          ]
        }
      ]
    },
    {
      "cell_type": "code",
      "source": [
        "rmse = evaluator.evaluate(predicted_val)\n",
        "print(\"RMSE: \", rmse)"
      ],
      "metadata": {
        "id": "_jAjFZZ2dC2C",
        "colab": {
          "base_uri": "https://localhost:8080/"
        },
        "outputId": "584aa4d9-9344-4268-ec70-88b9f57e2ed4"
      },
      "execution_count": null,
      "outputs": [
        {
          "output_type": "stream",
          "name": "stdout",
          "text": [
            "RMSE:  207.21020922414368\n"
          ]
        }
      ]
    },
    {
      "cell_type": "markdown",
      "source": [
        "### **3: Input age**"
      ],
      "metadata": {
        "id": "B1Ve00ywyuKt"
      }
    },
    {
      "cell_type": "code",
      "source": [
        "age = input('Enter age: ')"
      ],
      "metadata": {
        "colab": {
          "base_uri": "https://localhost:8080/",
          "height": 165
        },
        "id": "GkO6fVIIwi5c",
        "outputId": "8d1e3aa7-a74b-4f8e-9cab-f72e0275e022"
      },
      "execution_count": null,
      "outputs": [
        {
          "output_type": "error",
          "ename": "TypeError",
          "evalue": "ignored",
          "traceback": [
            "\u001b[0;31m---------------------------------------------------------------------------\u001b[0m",
            "\u001b[0;31mTypeError\u001b[0m                                 Traceback (most recent call last)",
            "\u001b[0;32m<ipython-input-43-b78eecd7abbb>\u001b[0m in \u001b[0;36m<module>\u001b[0;34m\u001b[0m\n\u001b[0;32m----> 1\u001b[0;31m \u001b[0mage\u001b[0m \u001b[0;34m=\u001b[0m \u001b[0minput\u001b[0m\u001b[0;34m(\u001b[0m\u001b[0;34m'enter data'\u001b[0m\u001b[0;34m)\u001b[0m\u001b[0;34m\u001b[0m\u001b[0;34m\u001b[0m\u001b[0m\n\u001b[0m",
            "\u001b[0;31mTypeError\u001b[0m: 'list' object is not callable"
          ]
        }
      ]
    },
    {
      "cell_type": "code",
      "source": [
        "input = [(540.0, 0.0, 0.0, 162.0, 2.5, 1040.0, 676.0, age, 79.99)]\n",
        "\n",
        "schema = StructType([ \\\n",
        "          StructField(\"cement\",FloatType(),True), \\\n",
        "          StructField(\"slag\",FloatType(),True), \\\n",
        "          StructField(\"flyash\",FloatType(),True), \\\n",
        "          StructField(\"water\", FloatType(), True), \\\n",
        "          StructField(\"superplasticizer\", FloatType(), True), \\\n",
        "          StructField(\"coarseaggregate\", FloatType(), True), \\\n",
        "          StructField(\"fineaggregate\", FloatType(), True), \\\n",
        "          StructField(\"age\", IntegerType(), True), \\\n",
        "          StructField(\"label\", FloatType(), True)\\\n",
        "        ])\n",
        "\n",
        "pred_df = spark.createDataFrame(data=input, schema=schema)\n",
        "pred_df.show(3)"
      ],
      "metadata": {
        "id": "yKV0T9Nyzn_8"
      },
      "execution_count": null,
      "outputs": []
    },
    {
      "cell_type": "code",
      "source": [
        "features_list = input_columns\n",
        "assembler = VectorAssembler(inputCols=features_list,outputCol='features')\n",
        "final_data = assembler.transform(pred_df).select('features','label')\n",
        "final_data.show(5)"
      ],
      "metadata": {
        "id": "8OscTXiA5SEw"
      },
      "execution_count": null,
      "outputs": []
    },
    {
      "cell_type": "code",
      "source": [
        "predicted_val = fitModel.transform(final_data)\n",
        "predicted_val.show()"
      ],
      "metadata": {
        "id": "quG8uy835UYn"
      },
      "execution_count": null,
      "outputs": []
    },
    {
      "cell_type": "markdown",
      "source": [
        "## **4. Recommendation:**"
      ],
      "metadata": {
        "id": "DhK_dUZR59uO"
      }
    },
    {
      "cell_type": "code",
      "source": [
        "print('Max:', df.agg({'Cement': 'max'}).show())"
      ],
      "metadata": {
        "colab": {
          "base_uri": "https://localhost:8080/"
        },
        "id": "KISFFcl86EdC",
        "outputId": "7934e58a-9eed-4d29-e62b-f0c7a6789e2f"
      },
      "execution_count": null,
      "outputs": [
        {
          "output_type": "stream",
          "name": "stdout",
          "text": [
            "+-----------+\n",
            "|max(Cement)|\n",
            "+-----------+\n",
            "|      540.0|\n",
            "+-----------+\n",
            "\n",
            "Max: None\n"
          ]
        }
      ]
    },
    {
      "cell_type": "code",
      "source": [
        "print('Min:', df.agg({'Cement': 'min'}).show())"
      ],
      "metadata": {
        "colab": {
          "base_uri": "https://localhost:8080/"
        },
        "id": "0Z5RZoulLkAT",
        "outputId": "d5565168-6c73-4b1e-fd3d-796d4ffa158b"
      },
      "execution_count": null,
      "outputs": [
        {
          "output_type": "stream",
          "name": "stdout",
          "text": [
            "+-----------+\n",
            "|min(Cement)|\n",
            "+-----------+\n",
            "|      102.0|\n",
            "+-----------+\n",
            "\n",
            "Min: None\n"
          ]
        }
      ]
    },
    {
      "cell_type": "markdown",
      "source": [
        "Since the values start from almost 100 and the max at 540, then, I'll try from to loop from 100-1000"
      ],
      "metadata": {
        "id": "ijYG8cwLLqnk"
      }
    },
    {
      "cell_type": "code",
      "source": [
        "schema = StructType([ \\\n",
        "          StructField(\"cement\",FloatType(),True), \\\n",
        "          StructField(\"slag\",FloatType(),True), \\\n",
        "          StructField(\"flyash\",FloatType(),True), \\\n",
        "          StructField(\"water\", FloatType(), True), \\\n",
        "          StructField(\"superplasticizer\", FloatType(), True), \\\n",
        "          StructField(\"coarseaggregate\", FloatType(), True), \\\n",
        "          StructField(\"fineaggregate\", FloatType(), True), \\\n",
        "          StructField(\"age\", IntegerType(), True) \\\n",
        "        ])"
      ],
      "metadata": {
        "id": "2O5B8V2OgcZr"
      },
      "execution_count": null,
      "outputs": []
    },
    {
      "cell_type": "code",
      "source": [
        "cement_value = []\n",
        "predictions = []\n",
        "\n",
        "for cement in range(100,1000,10):\n",
        "\n",
        "  input = [(float(cement), 0.0, 0.0, 162.0, 2.5, 1040.0, 676.0, 28)]\n",
        "  pred_df = spark.createDataFrame(data=input, schema=schema)\n",
        "\n",
        "  features_list = input_columns\n",
        "  assembler = VectorAssembler(inputCols=features_list,outputCol='features')\n",
        "  final_data = assembler.transform(pred_df).select('features')\n",
        "  predicted_val = fitModel.transform(final_data)\n",
        "\n",
        "  cement_value.append(cement)\n",
        "  predictions.append(predicted_val.collect()[0][1])\n"
      ],
      "metadata": {
        "id": "1_tHNz9RLnb8"
      },
      "execution_count": null,
      "outputs": []
    },
    {
      "cell_type": "code",
      "source": [
        "import seaborn as sns\n",
        "import matplotlib.pyplot as plt\n",
        "import numpy as np"
      ],
      "metadata": {
        "id": "ZY44C85KVDGr"
      },
      "execution_count": null,
      "outputs": []
    },
    {
      "cell_type": "code",
      "source": [
        "fig, ax = plt.subplots(figsize=(10, 5), dpi=100)\n",
        "sns.lineplot(\n",
        "    x=cement_value, y=predictions,\n",
        "    markers=True, dashes=False)\n",
        "ax.set(xlim=(100, 1000))"
      ],
      "metadata": {
        "colab": {
          "base_uri": "https://localhost:8080/",
          "height": 455
        },
        "id": "nLCtFo__RlCS",
        "outputId": "d33c8a01-e2b0-40fd-ebf0-dd5f2eed5c0e"
      },
      "execution_count": null,
      "outputs": [
        {
          "output_type": "execute_result",
          "data": {
            "text/plain": [
              "[(100.0, 1000.0)]"
            ]
          },
          "metadata": {},
          "execution_count": 105
        },
        {
          "output_type": "display_data",
          "data": {
            "text/plain": [
              "<Figure size 1000x500 with 1 Axes>"
            ],
            "image/png": "[encoded data removed]"
          },
          "metadata": {
            "needs_background": "light"
          }
        }
      ]
    },
    {
      "cell_type": "markdown",
      "source": [
        "### Since the predictions became constant after around 490 cement strength, we can recommed the value to be **500**"
      ],
      "metadata": {
        "id": "i7SKCe-HYhcJ"
      }
    },
    {
      "cell_type": "code",
      "source": [
        "cement = 500.0\n",
        "input = [(cement, 0.0, 0.0, 162.0, 2.5, 1040.0, 676.0, 28)]\n",
        "pred_df = spark.createDataFrame(data=input, schema=schema)\n",
        "\n",
        "features_list = input_columns\n",
        "assembler = VectorAssembler(inputCols=features_list,outputCol='features')\n",
        "final_data = assembler.transform(pred_df).select('features')\n",
        "predicted_val = fitModel.transform(final_data)\n",
        "\n",
        "predicted_val.show()"
      ],
      "metadata": {
        "colab": {
          "base_uri": "https://localhost:8080/"
        },
        "id": "nzEyz5fzRmUu",
        "outputId": "3e4e6fb0-1bd5-42cd-edd2-f17d3cc926df"
      },
      "execution_count": null,
      "outputs": [
        {
          "output_type": "stream",
          "name": "stdout",
          "text": [
            "+--------------------+-----------------+\n",
            "|            features|       prediction|\n",
            "+--------------------+-----------------+\n",
            "|[500.0,0.0,0.0,16...|71.41791013071897|\n",
            "+--------------------+-----------------+\n",
            "\n"
          ]
        }
      ]
    },
    {
      "cell_type": "code",
      "source": [],
      "metadata": {
        "id": "xNvvLK50XLEV"
      },
      "execution_count": null,
      "outputs": []
    }
  ],
  "metadata": {
    "kernelspec": {
      "display_name": "Python 3 (ipykernel)",
      "language": "python",
      "name": "python3"
    },
    "language_info": {
      "codemirror_mode": {
        "name": "ipython",
        "version": 3
      },
      "file_extension": ".py",
      "mimetype": "text/x-python",
      "name": "python",
      "nbconvert_exporter": "python",
      "pygments_lexer": "ipython3",
      "version": "3.10.8"
    },
    "colab": {
      "provenance": []
    }
  },
  "nbformat": 4,
  "nbformat_minor": 0
}